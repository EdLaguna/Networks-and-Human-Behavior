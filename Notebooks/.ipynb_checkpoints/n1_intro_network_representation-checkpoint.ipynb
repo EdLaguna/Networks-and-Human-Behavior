{
 "cells": [
  {
   "cell_type": "markdown",
   "metadata": {},
   "source": [
    "# Networks and Human Behavior\n",
    "## Tools for computational analysis\n",
    "\n",
    "### TABLE OF CONTENTS \n",
    "\n",
    "\n",
    "1. [Introduction](#What-you-need!)\n",
    "    \n",
    "\n",
    "2. [Network Representation](#first)\n",
    "    \n",
    "    2.1 [Nodes and Edges](#NE)\n",
    "    \n",
    "    2.2 [Graphs](#G)\n",
    "    \n",
    "    2.3 [Adjacency Matrix](#A)\n",
    "        \n",
    "        \n",
    "        \n",
    "3. [Managing Network Data](#Data)\n",
    "\n",
    "Note: this index and its links don't render properly on github but will work if you open it using jupyter.\n",
    "\n",
    "***\n",
    "<a id=\"What-you-need!\"></a>\n",
    "### Introduction\n",
    "\n",
    "The empirical work in this course will be organized in a series of Jupyter Notebooks of which this is the first one.\n",
    "\n",
    "- The notebooks will provide you with enough information to understand the concepts of the class and the tools to perform your own exploratory analysis. \n",
    "\n",
    "- They are not exhaustive, meaning that there may be alternative methods to do the same tasks.\n",
    "\n",
    "- They are work in progress, so kindly flag any issues you encounter or any suggestions for improvement.\n",
    "\n",
    "<br>\n",
    "<div class=\"alert alert-block alert-success\"> \n",
    "You can vizualize the notebooks on your browser but you will get the most out of the material if you download and run them in Python as you go along.\n",
    "    <br>\n",
    "    <br>\n",
    "If you have not done so yet, follow the setup instructions.\n",
    "</div>"
   ]
  },
  {
   "cell_type": "markdown",
   "metadata": {},
   "source": [
    "***\n",
    "<a id=\"first\"></a>\n",
    "### Network Representation\n",
    "\n",
    "<a id=\"NE\"></a>\n",
    "#### Nodes and Edges\n",
    "Networks provide us with a mental model to describe and study interactions of individual entities within a community or group.\n",
    "\n",
    "The basic elements of the network are thus:\n",
    "\n",
    "-  <u>The individuals</u>: e.g. humans, countries, banks. Abstractly referred to as **nodes** (N).\n",
    "-  <u>The relationships</u>: e.g. friendships, trade treaties, loans. Generically called **edges** (E).\n",
    "\n",
    "A simple network is thus defined as a set of nodes (think for instance the group of students taking this class) and a description of whether each pair of nodes interacts with each other; we will sometimes talk about this interacting status as the pair being **connected**.\n",
    "\n",
    "> Naturally, information regarding the same network (that is the same sets of nodes and edges) can be conveyed and stored in different forms.\n",
    ">\n",
    "> This is important to remember because it could determine how you handle network data; for instance it could influence which function you use to load a network into a notebook. \n",
    "    \n",
    "To fix some ideas let's consider a group of 5 people: Thomas, Carl, Sara, Mark and Sonia.\n",
    "\n",
    "<br>\n",
    "<div class=\"alert alert-block alert-info\"> One of Python's convenient features is that it allows you to build programs based on objects. We will not enter in more detail for the purpose of this class but you will find \"pre-programmed\" objects such as <b>sets</b> and <b>lists</b> to be very useful.</div>\n",
    "    \n",
    "Let's define a set of our group of students:    "
   ]
  },
  {
   "cell_type": "code",
   "execution_count": 1,
   "metadata": {},
   "outputs": [],
   "source": [
    "students = {'Thomas', 'Carl', 'Sara', 'Mark','Sonia'}"
   ]
  },
  {
   "cell_type": "code",
   "execution_count": 2,
   "metadata": {},
   "outputs": [
    {
     "name": "stdout",
     "output_type": "stream",
     "text": [
      "{'Sara', 'Thomas', 'Carl', 'Sonia', 'Mark'}\n"
     ]
    }
   ],
   "source": [
    "# We can see the elements of the set of students by using the generic print() function from python\n",
    "print(students)"
   ]
  },
  {
   "cell_type": "code",
   "execution_count": 3,
   "metadata": {},
   "outputs": [
    {
     "name": "stdout",
     "output_type": "stream",
     "text": [
      "{'Sara', 'Thomas', 'Carl', 'YOU', 'Sonia', 'Mark'}\n"
     ]
    }
   ],
   "source": [
    "# It's fairly simple to add another name,\n",
    "# If you have downloaded this notebook and are runnning it as you read, feel free to change YOU for your own name\n",
    "students.add(\"YOU\")\n",
    "\n",
    "# Note: there are many other things that can be done with sets. You can search online if you are curious.\n",
    "\n",
    "print(students)"
   ]
  },
  {
   "cell_type": "markdown",
   "metadata": {},
   "source": [
    "Now, let us fully characterize the network of **friendships** in the class by listing all the pairs of friends:"
   ]
  },
  {
   "cell_type": "code",
   "execution_count": 4,
   "metadata": {},
   "outputs": [],
   "source": [
    "friend_list = [('Sara','Sonia'),\n",
    "               ('Sara','Mark'),\n",
    "               ('Sonia','Mark'),\n",
    "               ('Sonia','Carl'),\n",
    "               ('Sonia','Thomas'),\n",
    "               ('Mark','Thomas')\n",
    "              ]"
   ]
  },
  {
   "cell_type": "markdown",
   "metadata": {},
   "source": [
    "Remark in a few details. \n",
    "\n",
    "- In this simple network we consider that Sara being friends with Sonia implies that Sonia is friends with Sara. Such networks are known as **undirected** and thus we only need to list the edge between Sara and Sonia once and the ortehr of the elements of the pair is irrelevant.\n",
    "- The converse type of networks are known as **directed** (simplest example would be Twitter) in which the relationship can be one-sided and thus `('Sara','Sonia')` would be represent a different edge from  `('Sonia','Sara')` and both would have to be specified if both indeed appear in the directed network.\n",
    "- In this classroom network not everyone is connected to everyone else and in particular you as the new student have not yet had the chance to make any connections. This shows why both sets (N and E) are important to fully describe the network. Nodes with no edges (also known as **isolated** nodes) do not appear anywhere on the edgelist.\n",
    "- Nodes do not have edges with themselves. This is a simple convention that can sometimes be consequential and can be changed in specific contexts."
   ]
  },
  {
   "cell_type": "markdown",
   "metadata": {},
   "source": [
    "`students` and `friend_list` fully describe our simple network.\n",
    "\n",
    "We know all the members of the community and who is friends with whom.\n",
    "\n",
    "<a id=\"G\"></a>\n",
    "#### Graphs\n",
    "Nodes and edges are naturally ameanable to be represented by a graph in which nodes are vertex or points and edges between them show the connections (you can get an idea of where some of the names come from).\n",
    "\n",
    "Graphs are nice because they provide insightful visualizations but also because many mathematicians and theorists have spent time and effort studying and finding many useful properties some of which we shall cover in this course.\n",
    "\n",
    "<br>\n",
    "<div class=\"alert alert-block alert-info\"> Not all objects and functions that we will use on Python are already loaded when you launch the interpreter (or open a notebook). There is a vast number of modules (or packages) that expand your ability to perform computations without having to code the functions from scratch. <br>\n",
    "\n",
    "To use these functions and objects you have to import them. The best practice is to import them at the begining of your code and to use aliases defined by convention. <br>\n",
    "\n",
    "Modules are imported by running:\n",
    "<pre><code>import module_name as module_alias</code></pre>\n",
    "\n",
    "\n",
    "The word  following \"as\" is known as an alias and it serves as a prefix for when you call the functions of  that package. If you import the package without an alias then you can just type the function names without any prefix but  this is bad practice because some packages may have functions with the same name or you may have coded functions with already used names. <br>\n",
    "<br> \n",
    "In principle, you can choose any alias you want for each package. However, there are some conventions and it is easier if you stick to those.    \n",
    "\n",
    "</div>\n",
    "\n",
    "In the subsequent notebooks this shall become clear. For now we will just import one package to work with networks (networkx).\n",
    "\n",
    "In networkx, networks are usually defined as a graph object. Let's play with our example network.\n"
   ]
  },
  {
   "cell_type": "code",
   "execution_count": 5,
   "metadata": {},
   "outputs": [],
   "source": [
    "import networkx as nx"
   ]
  },
  {
   "cell_type": "code",
   "execution_count": 6,
   "metadata": {},
   "outputs": [],
   "source": [
    "# Define a graph object G\n",
    "G=nx.Graph()\n",
    "\n",
    "# Add  nodes\n",
    "G.add_nodes_from(students)"
   ]
  },
  {
   "cell_type": "code",
   "execution_count": 7,
   "metadata": {},
   "outputs": [
    {
     "name": "stdout",
     "output_type": "stream",
     "text": [
      "# nodes: 6\n",
      "['Sara', 'Thomas', 'Carl', 'YOU', 'Sonia', 'Mark']\n",
      "# edges: 0\n"
     ]
    }
   ],
   "source": [
    "# Right now, the graph has all the students but no edges\n",
    "print('# nodes:',G.number_of_nodes())\n",
    "\n",
    "print(G.nodes())\n",
    "\n",
    "print('# edges:',G.number_of_edges())\n"
   ]
  },
  {
   "cell_type": "code",
   "execution_count": 8,
   "metadata": {},
   "outputs": [
    {
     "name": "stdout",
     "output_type": "stream",
     "text": [
      "# edges: 6\n"
     ]
    }
   ],
   "source": [
    "# Let's add the edges from the edge-list\n",
    "G.add_edges_from(friend_list)\n",
    "\n",
    "print('# edges:',G.number_of_edges())\n"
   ]
  },
  {
   "cell_type": "code",
   "execution_count": 9,
   "metadata": {},
   "outputs": [
    {
     "data": {
      "image/png": "[encoded data removed]",
      "text/plain": [
       "<Figure size 432x288 with 1 Axes>"
      ]
     },
     "metadata": {},
     "output_type": "display_data"
    }
   ],
   "source": [
    "# The next line of code allows to visualize plots within the notebook (in the future we will keep it in the preamble)\n",
    "%matplotlib inline\n",
    "\n",
    "# Let's take a look at the network\n",
    "nx.draw_circular(G)"
   ]
  },
  {
   "cell_type": "code",
   "execution_count": 10,
   "metadata": {},
   "outputs": [
    {
     "data": {
      "image/png": "[encoded data removed]",
      "text/plain": [
       "<Figure size 432x288 with 1 Axes>"
      ]
     },
     "metadata": {},
     "output_type": "display_data"
    }
   ],
   "source": [
    "# Don't worry too much about all these extra arguments, it is just to visualize it better.\n",
    "nx.draw_circular(G, with_labels = True,node_color='crimson',node_size=2500,font_color='white')"
   ]
  },
  {
   "cell_type": "markdown",
   "metadata": {},
   "source": [
    "Now that you are getting so good at networking, you could probably add some edges with the other students."
   ]
  },
  {
   "cell_type": "code",
   "execution_count": 11,
   "metadata": {},
   "outputs": [],
   "source": [
    "G.add_edge('YOU','Sara')\n",
    "G.add_edge('YOU','Thomas')\n"
   ]
  },
  {
   "cell_type": "code",
   "execution_count": 12,
   "metadata": {},
   "outputs": [
    {
     "data": {
      "image/png": "[encoded data removed]",
      "text/plain": [
       "<Figure size 432x288 with 1 Axes>"
      ]
     },
     "metadata": {},
     "output_type": "display_data"
    }
   ],
   "source": [
    "nx.draw_circular(G, with_labels = True,node_color='crimson',node_size=2500,font_color='white')"
   ]
  },
  {
   "cell_type": "markdown",
   "metadata": {},
   "source": [
    "<a id=\"A\"></a>\n",
    "#### Adjacency Matrix\n",
    "\n",
    "Another very useful representation for a network is its **adjacency matrix**. \n",
    "\n",
    "To understand this matrix:\n",
    "\n",
    "1. Choose an order for the nodes.\n",
    "2. Consider every possible pair of nodes. \n",
    "\n",
    "    2.1 If the nodes in the pair are connected, input a 1 in the cell of the matrix whose indices correspond to the pair of nodes.\n",
    "    \n",
    "    2.2 If they are not connected, input a zero.\n",
    "    \n",
    "\n",
    "For the pre-cooked example in this notebook it should look like this:\n",
    "\n",
    "| / | Thomas | Mark | Carl | Sonia | Sara | YOU |\n",
    "| --- | --- | --- | --- | --- | --- | --- |\n",
    "| Thomas | 0 | 1 | 0 | 1 | 0 | 1 |\n",
    "| Mark | 1 | 0 | 0 | 1 | 1 | 0 |\n",
    "| Carl | 0 | 0 | 0 | 1 | 0 | 0 |\n",
    "| Sonia | 1 | 1 | 1 | 0 | 1 | 0 |\n",
    "| Sara | 0 | 1 | 0 | 1 | 0 | 1 |\n",
    "| YOU | 1 | 0 | 0 | 0 | 1 | 0 |\n"
   ]
  },
  {
   "cell_type": "code",
   "execution_count": 13,
   "metadata": {},
   "outputs": [
    {
     "name": "stdout",
     "output_type": "stream",
     "text": [
      "[[0 1 0 1 0 1]\n",
      " [1 0 0 1 1 0]\n",
      " [0 0 0 1 0 0]\n",
      " [1 1 1 0 1 0]\n",
      " [0 1 0 1 0 1]\n",
      " [1 0 0 0 1 0]]\n"
     ]
    }
   ],
   "source": [
    "# To get the matrix from your networkx Graph simply use nx.adjacency_matrix()\n",
    "# Note: you can choose the order in which the nodes are indexed into rows and columns.\n",
    "# Note 2: Python saves the matrix in a \"sparse\" format, meaning that it only stores the position of the ones\n",
    "# and ignores the zeros. So to visualize a matrix like the one above we use the .todense() method \n",
    "# on the matrix to \"make it dense\", that is to generate the zeros.\n",
    "print(nx.adjacency_matrix(G,nodelist=['Thomas', 'Mark', 'Carl', 'Sonia', 'Sara', 'YOU']).todense())"
   ]
  },
  {
   "cell_type": "markdown",
   "metadata": {},
   "source": [
    "\n",
    "<br>\n",
    "<div class=\"alert alert-block alert-success\"> Feel free to <b>play around with the toy network</b> in this notebook. <br>\n",
    "    <ul>\n",
    "  <li>Add/delete nodes. E.g. G.add_node('ME'), G.remove_node('YOU'). </li>\n",
    "  <li>Add/delete edges. E.g. G.add_edge('YOU','Carl'), G.remove_node('Carl','Sonia'). </li>\n",
    "     </ul>\n",
    "       \n",
    "See how this changes affect the edge list, the graph and the adjacency matrix. \n",
    "<br>\n",
    "<br>\n",
    "<b>Make sure you undertand how the different representations work and relate to one another! </b> <br>\n",
    "If unsure, review the material, ask your classmates and your instructors :)\n",
    "\n",
    "</div>"
   ]
  },
  {
   "cell_type": "markdown",
   "metadata": {},
   "source": [
    "***\n",
    "<a id=\"Data\"></a>\n",
    "### Managing Network Data\n",
    "\n",
    "As you go along with the course material (and in your own future research/work) you will come across network datasets that msy contain many more nodes and edges and you will not be creating the network from scratch as we did here.\n",
    "\n",
    "The network data may be stored as a list of edges, a graph or an adjacency matrix and all of these could be stored in multiple formats (like .csv, .txt, .dta, .xlsx). \n",
    "\n",
    "In this section we will provide a non-exhaustive list of ways in which you can get your data up an running on Python from an already existing network. \n",
    "\n",
    "Throughout the course you may encounter some of these and other alternatives (and you may find even more ways to do it online). DO NOT worry about memorizing functions but rather about understanding the concepts as they relate to social and economic networks.\n",
    "\n",
    "#### Dataframes\n",
    "\n",
    "One simple way of handling data on Python is with the **Pandas** (pd) module. Pandas is one of the workhorses of data analysis in Python.\n",
    "\n",
    "Among many other things, it allows you to create tables from data stored in a wide variety of formats. \n",
    "\n",
    "Remeber that before being able to use it, you will need to load the module:\n",
    "\n",
    "`import pandas as pd`\n",
    "\n",
    "In this class the main way in which we will use it is to load/save data.\n",
    "\n",
    "##### Load Data\n",
    "\n",
    "We will create a new object, a dataframe, that contains data that was stored in a specific file in your computer.\n",
    "\n",
    "Let's say that you have a .csv file in a given file: 'PATH_TO_FILE/file_name.csv' \n",
    "\n",
    "Then way to read and load into a table is simply:\n",
    "\n",
    "`new_dataframe = pd.read_csv('PATH_TO_FILE/file_name.csv')`\n",
    "\n",
    "\n",
    "If the file format is not csv you may use other functions (this is not exhaustive):\n",
    "\n",
    "| Format | function |\n",
    "| --- | --- |\n",
    "| excel |   `pd.read_excel('PATH_TO_FILE/file_name.xlsx')`|\n",
    "| stata |   `pd.read_stata('PATH_TO_FILE/file_name.dta')`|\n",
    "| parquet | `pd.read_parquet('PATH_TO_FILE/file_name.parquet')`|\n",
    "| JSON |    `pd.read_json('PATH_TO_FILE/file_name.json')`|\n",
    "| txt |    `pd.read_csv('PATH_TO_FILE/file_name.txt',sep=\" \")`|\n",
    "\n",
    "##### Save Data\n",
    "\n",
    "When you already have a pandas dataframe (say edgelist_dataframe) then you can save it to different formats using the following fuctions:\n",
    "\n",
    "| Format | function |\n",
    "| --- | --- |\n",
    "| csv |   `edgelist_dataframe.to_csv('PATH_TO_FILE/file_name.csv')`|\n",
    "| excel |   `edgelist_dataframe.to_excel('PATH_TO_FILE/file_name.xlsx')`|\n",
    "| stata |   `edgelist_dataframe.to_stata('PATH_TO_FILE/file_name.dta')`|\n",
    "| parquet | `edgelist_dataframe.to_parquet('PATH_TO_FILE/file_name.parquet')`|\n",
    "| JSON |    `edgelist_dataframe.to_json('PATH_TO_FILE/file_name.json')`|\n",
    "| txt |    `edgelist_dataframe.to_csv('PATH_TO_FILE/file_name.txt',sep=\" \")`|\n",
    "\n",
    "\n",
    "<br>\n",
    "<div class=\"alert alert-block alert-info\"> Note how in Python some functions are applied by typing the object as one of the arguments in parentheses: <br>\n",
    "   \n",
    "<pre><code>function(OBJECT,other arguments)</code></pre>\n",
    "    \n",
    "while other functions are applied using a '.' after the object: <br> \n",
    "\n",
    "<pre><code>OBJECT.function(other arguments)</code></pre>\n",
    "\n",
    "An in-depth explanation of this difference falls outside the scope of this course. For now it should be sufficient to know that the difference exists. \n",
    "</div>\n",
    "\n",
    "\n",
    "##### Dataframes $\\iff$ Networks\n",
    "\n",
    "\n",
    "Most commonly, the network dataframes you will be reading will correspond to node/edge lists and adjacency matrices.\n",
    "\n",
    "- Once you have a pandas dataframe with the edgelist, define a network with:\n",
    "\n",
    "> `new_graph_object_name =  nx.from_pandas_edgelist(new_dataframe)`\n",
    "\n",
    "- If you want to save the edge list of an existing network as a pandas dataframe then you would run:\n",
    "\n",
    "> `old_edgelist_data =  nx.to_pandas_edgelist(old_graph)`\n",
    "\n",
    "- If the file contained an adjacency matrix (and therefore the dataframe is a matrix) then you would run:\n",
    "\n",
    "> `new_graph_object_name =  nx.from_pandas_adjacency(new_dataframe)`\n",
    "\n",
    "- Finally (for now), to save the adjacency matrix of an existing as a pandas dataframe:\n",
    "\n",
    "\n",
    "> `df = nx.to_pandas_adjacency(old_graph, dtype=int)`\n",
    "\n",
    "See the example below for our toy example:"
   ]
  },
  {
   "cell_type": "code",
   "execution_count": 14,
   "metadata": {},
   "outputs": [
    {
     "name": "stdout",
     "output_type": "stream",
     "text": [
      "   source target\n",
      "0    Sara  Sonia\n",
      "1    Sara   Mark\n",
      "2    Sara    YOU\n",
      "3  Thomas  Sonia\n",
      "4  Thomas   Mark\n",
      "5  Thomas    YOU\n",
      "6    Carl  Sonia\n",
      "7   Sonia   Mark\n"
     ]
    }
   ],
   "source": [
    "# since we havent used pandas yet we need to load it\n",
    "# in the future, follow convention and load modules at the begining of your work\n",
    "import pandas as pd\n",
    "\n",
    "# generate pandas dataframe from edgelist\n",
    "edgelist_dataframe =  nx.to_pandas_edgelist(G)\n",
    "\n",
    "# Take a look a the dataframe. It's a table with two columns, source and target\n",
    "# these represent the source and target nodes of each connected pair\n",
    "# since the network is undirected the source/target label is inconsequential here.\n",
    "print(edgelist_dataframe)\n"
   ]
  },
  {
   "cell_type": "markdown",
   "metadata": {},
   "source": [
    "<br>\n",
    "<div class=\"alert alert-block alert-info\"> \n",
    "NOTE: when the edgelist is not from a toy example this dataframe may have thousands of rows.\n",
    "\n",
    "Instead of trying to print the entire thing you can have a glimpse of the table by running:\n",
    "\n",
    "<pre><code>print(edgelist_dataframe.head())</code></pre>\n",
    "</div>"
   ]
  },
  {
   "cell_type": "code",
   "execution_count": 15,
   "metadata": {},
   "outputs": [
    {
     "name": "stdout",
     "output_type": "stream",
     "text": [
      "        Sara  Thomas  Carl  YOU  Sonia  Mark\n",
      "Sara       0       0     0    1      1     1\n",
      "Thomas     0       0     0    1      1     1\n",
      "Carl       0       0     0    0      1     0\n",
      "YOU        1       1     0    0      0     0\n",
      "Sonia      1       1     1    0      0     1\n",
      "Mark       1       1     0    0      1     0\n"
     ]
    }
   ],
   "source": [
    "# Let's create a pandas dataframe with the adjacency matrix:\n",
    "\n",
    "adjacency_dataframe = nx.to_pandas_adjacency(G, dtype=int)\n",
    "\n",
    "print(adjacency_dataframe)\n",
    "\n",
    "# note how in this case, the node names are preserved in the dataframe\n",
    "# (as opposed to when we only generated the matrix above)"
   ]
  },
  {
   "cell_type": "code",
   "execution_count": 16,
   "metadata": {},
   "outputs": [
    {
     "data": {
      "image/png": "[encoded data removed]",
      "text/plain": [
       "<Figure size 432x288 with 1 Axes>"
      ]
     },
     "metadata": {},
     "output_type": "display_data"
    }
   ],
   "source": [
    "# Now that we have the pandas dataframes we can create a new network from it:\n",
    "G_new = nx.from_pandas_adjacency(adjacency_dataframe)\n",
    "\n",
    "# Check the new network (which should be the same as before/with the corresponding changes you made to ir before)\n",
    "nx.draw_circular(G_new, with_labels = True,node_color='crimson',node_size=2500,font_color='white')"
   ]
  },
  {
   "cell_type": "markdown",
   "metadata": {},
   "source": [
    "<br><div class=\"alert alert-block alert-success\"> \n",
    "Now that you have seen how to transform our networkx graphs into pandas dataframes and back, convince yourself that you understand how to save (read) such dataframes into (from) files.\n",
    "    <br>\n",
    "    <br>\n",
    "You will see more examples of this Input/Output behavior in other notebooks as the course progresses.    \n",
    "</div>\n",
    "    "
   ]
  },
  {
   "cell_type": "code",
   "execution_count": null,
   "metadata": {},
   "outputs": [],
   "source": []
  }
 ],
 "metadata": {
  "kernelspec": {
   "display_name": "econ46_virtual_env",
   "language": "python",
   "name": "econ46_virtual_env"
  },
  "language_info": {
   "codemirror_mode": {
    "name": "ipython",
    "version": 3
   },
   "file_extension": ".py",
   "mimetype": "text/x-python",
   "name": "python",
   "nbconvert_exporter": "python",
   "pygments_lexer": "ipython3",
   "version": "3.7.1"
  }
 },
 "nbformat": 4,
 "nbformat_minor": 2
}
