{
 "cells": [
  {
   "cell_type": "markdown",
   "metadata": {},
   "source": [
    "# Peer Effects\n"
   ]
  },
  {
   "cell_type": "code",
   "execution_count": 1,
   "metadata": {},
   "outputs": [],
   "source": [
    "%%capture\n",
    "# Housekeeping\n",
    "import networkx as nx\n",
    "import numpy as np\n",
    "import pandas as  pd\n",
    "import matplotlib.pyplot as plt\n",
    "%matplotlib inline \n",
    "import matplotlib.gridspec as gridspec\n",
    "import matplotlib.pylab as pl\n",
    "\n",
    "# Make sure you download econ46_library.py from our course material and save it in the same folder as then notebooks\n",
    "# this file has some functions specifically coded for the class\n",
    "from supporting_material import econ46_library as el\n",
    "\n",
    "# These modules are only to have some interactive pieces of code in the notebooks\n",
    "from ipywidgets import interact, interactive, fixed, interact_manual\n",
    "import ipywidgets as widgets\n",
    "from IPython.display import display\n"
   ]
  },
  {
   "cell_type": "code",
   "execution_count": 2,
   "metadata": {},
   "outputs": [
    {
     "data": {
      "application/vnd.jupyter.widget-view+json": {
       "model_id": "2dad144539994fb0babea6d1f80fa085",
       "version_major": 2,
       "version_minor": 0
      },
      "text/plain": [
       "ToggleButtons(description='Period:', options=('t=0', 't=1', 't=2', 't=3'), tooltips=('High School Classroom in…"
      ]
     },
     "metadata": {},
     "output_type": "display_data"
    },
    {
     "data": {
      "application/vnd.jupyter.widget-view+json": {
       "model_id": "bbbc32fe064748e0b0aa28faf010aeac",
       "version_major": 2,
       "version_minor": 0
      },
      "text/plain": [
       "ToggleButtons(description='Types', options=('None', 'Reported Gender'), tooltips=('High School Classroom in th…"
      ]
     },
     "metadata": {},
     "output_type": "display_data"
    },
    {
     "data": {
      "application/vnd.jupyter.widget-view+json": {
       "model_id": "e91fd130473140299ec867aebcef9405",
       "version_major": 2,
       "version_minor": 0
      },
      "text/plain": [
       "Accordion(children=(ToggleButtons(description='Alcohol Use:', options=('No Info', 't=1', 't=2', 't=3'), toolti…"
      ]
     },
     "metadata": {},
     "output_type": "display_data"
    },
    {
     "data": {
      "application/vnd.jupyter.widget-view+json": {
       "model_id": "c47325824da34463bd5d76c761981bc8",
       "version_major": 2,
       "version_minor": 0
      },
      "text/plain": [
       "ToggleButtons(description='Layout:', options=('Kamada Kawai', 'Circle', 'Spring', 'Random'), tooltips=('Circul…"
      ]
     },
     "metadata": {},
     "output_type": "display_data"
    },
    {
     "data": {
      "application/vnd.jupyter.widget-view+json": {
       "model_id": "8b7618062de4441abb8d2a769925e664",
       "version_major": 2,
       "version_minor": 0
      },
      "text/plain": [
       "Dropdown(description='Attribute:', options=('', 'Degree Centrality', 'Clustering Centrality', 'Betweenness Cen…"
      ]
     },
     "metadata": {},
     "output_type": "display_data"
    },
    {
     "data": {
      "application/vnd.jupyter.widget-view+json": {
       "model_id": "98d3c76d7197431d8cd9bac7697db6e0",
       "version_major": 2,
       "version_minor": 0
      },
      "text/plain": [
       "Output()"
      ]
     },
     "metadata": {},
     "output_type": "display_data"
    }
   ],
   "source": [
    "display(el.nets_drink,el.types_drink,el.accordion_drink,el.lays_drink,el.atts_drink,el.y_drink)\n"
   ]
  },
  {
   "cell_type": "code",
   "execution_count": null,
   "metadata": {},
   "outputs": [],
   "source": []
  }
 ],
 "metadata": {
  "kernelspec": {
   "display_name": "econ46_virtual_env",
   "language": "python",
   "name": "econ46_virtual_env"
  },
  "language_info": {
   "codemirror_mode": {
    "name": "ipython",
    "version": 3
   },
   "file_extension": ".py",
   "mimetype": "text/x-python",
   "name": "python",
   "nbconvert_exporter": "python",
   "pygments_lexer": "ipython3",
   "version": "3.7.1"
  }
 },
 "nbformat": 4,
 "nbformat_minor": 2
}
