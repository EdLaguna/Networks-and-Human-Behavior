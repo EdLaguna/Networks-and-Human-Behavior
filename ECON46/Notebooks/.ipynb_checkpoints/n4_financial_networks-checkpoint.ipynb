{
 "cells": [
  {
   "cell_type": "markdown",
   "metadata": {},
   "source": [
    "#  Financial Networks"
   ]
  },
  {
   "cell_type": "code",
   "execution_count": 1,
   "metadata": {},
   "outputs": [],
   "source": [
    "%%capture\n",
    "# Housekeeping\n",
    "import networkx as nx\n",
    "import numpy as np\n",
    "import pandas as  pd\n",
    "import matplotlib.pyplot as plt\n",
    "%matplotlib inline \n",
    "import matplotlib.gridspec as gridspec\n",
    "import matplotlib.pylab as pl\n",
    "\n",
    "# Make sure you download econ46_library.py from our course material and save it in the same folder as then notebooks\n",
    "# this file has some functions specifically coded for the class\n",
    "from supporting_material import econ46_library as el\n",
    "\n",
    "# These modules are only to have some interactive pieces of code in the notebooks\n",
    "from ipywidgets import interact, interactive, fixed, interact_manual\n",
    "import ipywidgets as widgets\n",
    "from IPython.display import display\n",
    "\n"
   ]
  },
  {
   "cell_type": "markdown",
   "metadata": {},
   "source": []
  },
  {
   "cell_type": "code",
   "execution_count": 2,
   "metadata": {},
   "outputs": [],
   "source": [
    "# Ad hoc example\n",
    "\n",
    "np.random.seed(seed=2456)\n",
    "\n",
    "\n",
    "N = 10 #number of entities\n",
    "q = 4 # number of primitive assets\n",
    "Q = np.random.randint(0, high=3, size=(N,q), dtype='l') #asset ownership\n",
    "p = np.random.uniform(1, high=2, size=(q,1)) # returns\n",
    "\n",
    "# Equity shares\n",
    "S_aux = np.random.rand(N,N)\n",
    "S = S_aux/S_aux.sum(axis=0)\n",
    "S[:,0] = np.zeros((N))\n",
    "\n",
    "# Debt\n",
    "D = np.zeros((N,N))\n",
    "D[0,1:] = np.random.randint(0, high=4, size=(N-1), dtype='l')  \n",
    "\n",
    "values, insolvent = el.finance_network_eq(Q,p,S,D,beta=.99,case='worst')"
   ]
  },
  {
   "cell_type": "code",
   "execution_count": 3,
   "metadata": {},
   "outputs": [
    {
     "name": "stdout",
     "output_type": "stream",
     "text": [
      "# insolvent banks 4\n"
     ]
    }
   ],
   "source": [
    "num_insolvent_banks = insolvent.sum()\n",
    "\n",
    "print('# insolvent banks',num_insolvent_banks)"
   ]
  },
  {
   "cell_type": "code",
   "execution_count": 4,
   "metadata": {},
   "outputs": [],
   "source": [
    "\n",
    "def comparative_stats(deg,case='best'):\n",
    "    # Single private investor, uniform-ownership shares, regular network\n",
    "    np.random.seed(seed=2456)\n",
    "\n",
    "    N = 200\n",
    "    q = 50\n",
    "    Q = np.random.randint(0, high=3, size=(N,q), dtype='l')\n",
    "    p = np.random.uniform(1, high=4\n",
    "                          , size=(q,1))\n",
    "\n",
    "    if deg>N:\n",
    "        return\n",
    "    d = deg\n",
    "    if d ==1:\n",
    "        S= np.diag(np.ones(N-1),1)\n",
    "    else:\n",
    "        S = np.ones((d,N))/d\n",
    "        S=np.pad(S, pad_width=((0,N-d), (0,0)), mode='constant', constant_values=0)\n",
    "\n",
    "\n",
    "        idx = np.random.rand(*S.shape).argsort(0)\n",
    "        S = S[idx, np.arange(S.shape[1])]\n",
    "        S[:,0] = np.zeros((N))\n",
    "\n",
    "\n",
    "\n",
    "    D = np.zeros((N,N))\n",
    "\n",
    "    D[0,1:] = np.random.randint(0, high=40, size=(N-1), dtype='l') \n",
    "    #print(D[0,:])\n",
    "    D = np.random.randint(0, high=100, size=(N,N), dtype='l')\n",
    "    D[:,0] = np.zeros((N))\n",
    "\n",
    "    values, insolvent = el.finance_network_eq(Q,p,S,D1=D,beta=.1,max_iter=10000,case=case)\n",
    "    #print(insolvent)\n",
    "    print('Degree: {OW}'.format(OW=d),end=' ')\n",
    "    print('#Insolvent Banks: {OW}'.format(OW=insolvent.sum()))\n",
    "    print('......')\n",
    "    "
   ]
  },
  {
   "cell_type": "code",
   "execution_count": 5,
   "metadata": {},
   "outputs": [
    {
     "name": "stdout",
     "output_type": "stream",
     "text": [
      "Degree: 1 #Insolvent Banks: 5\n",
      "......\n",
      "Degree: 2 #Insolvent Banks: 41\n",
      "......\n",
      "Degree: 3 #Insolvent Banks: 7\n",
      "......\n",
      "Degree: 4 #Insolvent Banks: 3\n",
      "......\n",
      "Degree: 5 #Insolvent Banks: 0\n",
      "......\n",
      "Degree: 6 #Insolvent Banks: 0\n",
      "......\n",
      "Degree: 7 #Insolvent Banks: 0\n",
      "......\n",
      "Degree: 8 #Insolvent Banks: 0\n",
      "......\n",
      "Degree: 9 #Insolvent Banks: 0\n",
      "......\n"
     ]
    }
   ],
   "source": [
    "# best case\n",
    "for d in range(1,10):\n",
    "    comparative_stats(d)"
   ]
  },
  {
   "cell_type": "code",
   "execution_count": 6,
   "metadata": {},
   "outputs": [
    {
     "name": "stdout",
     "output_type": "stream",
     "text": [
      "Degree: 1 #Insolvent Banks: 191\n",
      "......\n",
      "Degree: 2 #Insolvent Banks: 191\n",
      "......\n",
      "Degree: 3 #Insolvent Banks: 191\n",
      "......\n",
      "Degree: 4 #Insolvent Banks: 191\n",
      "......\n",
      "Degree: 5 #Insolvent Banks: 191\n",
      "......\n",
      "Degree: 6 #Insolvent Banks: 191\n",
      "......\n",
      "Degree: 7 #Insolvent Banks: 191\n",
      "......\n",
      "Degree: 8 #Insolvent Banks: 191\n",
      "......\n",
      "Degree: 9 #Insolvent Banks: 191\n",
      "......\n"
     ]
    }
   ],
   "source": [
    "# worst case\n",
    "for d in range(1,10):\n",
    "    comparative_stats(d,case='worst')"
   ]
  },
  {
   "cell_type": "code",
   "execution_count": null,
   "metadata": {},
   "outputs": [],
   "source": []
  }
 ],
 "metadata": {
  "kernelspec": {
   "display_name": "econ46_virtual_env",
   "language": "python",
   "name": "econ46_virtual_env"
  },
  "language_info": {
   "codemirror_mode": {
    "name": "ipython",
    "version": 3
   },
   "file_extension": ".py",
   "mimetype": "text/x-python",
   "name": "python",
   "nbconvert_exporter": "python",
   "pygments_lexer": "ipython3",
   "version": "3.7.1"
  }
 },
 "nbformat": 4,
 "nbformat_minor": 2
}
